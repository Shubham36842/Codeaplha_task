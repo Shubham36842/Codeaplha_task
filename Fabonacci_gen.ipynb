{
 "cells": [
  {
   "cell_type": "code",
   "execution_count": 7,
   "id": "b0c6a695-9518-439d-a137-89efaeacb9e2",
   "metadata": {},
   "outputs": [
    {
     "name": "stdin",
     "output_type": "stream",
     "text": [
      "Enter the number 10\n"
     ]
    },
    {
     "name": "stdout",
     "output_type": "stream",
     "text": [
      "Fibonacci Series is :-\n",
      "[0, 1, 1, 2, 3, 5, 8, 13, 21, 34]\n"
     ]
    }
   ],
   "source": [
    "# Task-1 Fibonacci Generator\n",
    "# Using Recursive approach\n",
    "\n",
    "# Function definition\n",
    "def fib_gen(n):\n",
    "    if n==0 or n==1:\n",
    "        return n\n",
    "    else:\n",
    "        # Implementing Recursive function call\n",
    "        return fib_gen(n-1)+fib_gen(n-2)\n",
    "\n",
    "# Driver Code\n",
    "# Taking input from user to generate fibonacci series\n",
    "num=int(input(\"Enter the number\"))\n",
    "series=[]\n",
    "for i in range(num):\n",
    "    series.append(fib_gen(i))\n",
    "\n",
    "# printing Fibonacci Series\n",
    "print(\"Fibonacci Series is :-\")\n",
    "print(series)"
   ]
  },
  {
   "cell_type": "code",
   "execution_count": null,
   "id": "f6caea4c-f962-416e-b894-a749ed38669a",
   "metadata": {},
   "outputs": [],
   "source": []
  }
 ],
 "metadata": {
  "kernelspec": {
   "display_name": "Python 3 (ipykernel)",
   "language": "python",
   "name": "python3"
  },
  "language_info": {
   "codemirror_mode": {
    "name": "ipython",
    "version": 3
   },
   "file_extension": ".py",
   "mimetype": "text/x-python",
   "name": "python",
   "nbconvert_exporter": "python",
   "pygments_lexer": "ipython3",
   "version": "3.10.12"
  }
 },
 "nbformat": 4,
 "nbformat_minor": 5
}
